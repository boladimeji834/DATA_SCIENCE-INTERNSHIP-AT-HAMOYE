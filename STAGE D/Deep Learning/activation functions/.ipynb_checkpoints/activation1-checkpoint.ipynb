{
 "cells": [
  {
   "cell_type": "code",
   "execution_count": 2,
   "id": "0128b671-49ee-48f9-9356-e327cc75c19e",
   "metadata": {},
   "outputs": [],
   "source": [
    "# This notebook contains some of the most popular acticvation functions in deep learning "
   ]
  },
  {
   "cell_type": "code",
   "execution_count": 5,
   "id": "177280c0-f94e-4e97-88f8-f85604133dc2",
   "metadata": {},
   "outputs": [],
   "source": [
    "# importing the necessary libraries \n",
    "import math"
   ]
  },
  {
   "cell_type": "code",
   "execution_count": 6,
   "id": "56669cd6-bf58-4dac-b280-fc665cdb773d",
   "metadata": {},
   "outputs": [],
   "source": [
    "# the sigmoid function \n",
    "\n",
    "def sigmoid(x): \n",
    "    return 1 / math.exp(-x) + 1"
   ]
  },
  {
   "cell_type": "code",
   "execution_count": 7,
   "id": "557ddea7-c526-482a-bb45-a8257c9b3a79",
   "metadata": {},
   "outputs": [
    {
     "data": {
      "text/plain": [
       "21.085536923187668"
      ]
     },
     "execution_count": 7,
     "metadata": {},
     "output_type": "execute_result"
    }
   ],
   "source": [
    "sigmoid(3)"
   ]
  },
  {
   "cell_type": "code",
   "execution_count": 8,
   "id": "215cc09d-a760-4f3c-8ad1-091796b682ae",
   "metadata": {},
   "outputs": [],
   "source": [
    "# the tanh function \n",
    "\n",
    "def tanh(x): \n",
    "    return (math.exp(x) - math.exp(-x)) / (math.exp(x) + math.exp(-x))"
   ]
  },
  {
   "cell_type": "code",
   "execution_count": 9,
   "id": "2825e69a-8509-460c-af5d-8e78c523d63c",
   "metadata": {},
   "outputs": [
    {
     "data": {
      "text/plain": [
       "0.999909204262595"
      ]
     },
     "execution_count": 9,
     "metadata": {},
     "output_type": "execute_result"
    }
   ],
   "source": [
    "tanh(5)"
   ]
  },
  {
   "cell_type": "code",
   "execution_count": 10,
   "id": "c71c5091-933c-4e9e-a35c-4cbce9c024f4",
   "metadata": {},
   "outputs": [],
   "source": [
    "# the relu function\n",
    "\n",
    "def relu(x): \n",
    "    return max(0, x)"
   ]
  },
  {
   "cell_type": "code",
   "execution_count": 11,
   "id": "ffb593fc-4fba-4686-9db5-9cf4fa407869",
   "metadata": {},
   "outputs": [
    {
     "data": {
      "text/plain": [
       "0"
      ]
     },
     "execution_count": 11,
     "metadata": {},
     "output_type": "execute_result"
    }
   ],
   "source": [
    "relu(-3)"
   ]
  },
  {
   "cell_type": "code",
   "execution_count": 13,
   "id": "aa1c2e69-4184-49fb-ace3-4081181989e6",
   "metadata": {},
   "outputs": [],
   "source": [
    "# the leaky relu function \n",
    "def leaky_relu(x): \n",
    "    return max(0.1 * x, x)"
   ]
  },
  {
   "cell_type": "code",
   "execution_count": 14,
   "id": "6fa89676-8f71-48d0-a4ed-709d11d072d6",
   "metadata": {},
   "outputs": [
    {
     "data": {
      "text/plain": [
       "-0.5"
      ]
     },
     "execution_count": 14,
     "metadata": {},
     "output_type": "execute_result"
    }
   ],
   "source": [
    "leaky_relu(-5)"
   ]
  }
 ],
 "metadata": {
  "kernelspec": {
   "display_name": "Python 3 (ipykernel)",
   "language": "python",
   "name": "python3"
  },
  "language_info": {
   "codemirror_mode": {
    "name": "ipython",
    "version": 3
   },
   "file_extension": ".py",
   "mimetype": "text/x-python",
   "name": "python",
   "nbconvert_exporter": "python",
   "pygments_lexer": "ipython3",
   "version": "3.11.5"
  }
 },
 "nbformat": 4,
 "nbformat_minor": 5
}
