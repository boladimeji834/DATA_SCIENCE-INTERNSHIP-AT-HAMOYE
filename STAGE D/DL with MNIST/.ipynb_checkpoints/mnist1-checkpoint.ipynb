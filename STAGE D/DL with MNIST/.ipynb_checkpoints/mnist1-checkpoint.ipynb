{
 "cells": [
  {
   "cell_type": "code",
   "execution_count": 9,
   "id": "3047cf92-2d32-4fbf-822c-f3c4992b385f",
   "metadata": {},
   "outputs": [],
   "source": [
    "import numpy as np \n",
    "import tensorflow as tf \n",
    "from tensorflow import keras\n",
    "import matplotlib.pyplot as plt \n",
    "import seaborn as sns "
   ]
  },
  {
   "cell_type": "code",
   "execution_count": 2,
   "id": "84fbe431-8335-4446-82d4-1b0b705b3333",
   "metadata": {},
   "outputs": [
    {
     "name": "stdout",
     "output_type": "stream",
     "text": [
      "Downloading data from https://storage.googleapis.com/tensorflow/tf-keras-datasets/mnist.npz\n",
      "\u001b[1m11490434/11490434\u001b[0m \u001b[32m━━━━━━━━━━━━━━━━━━━━\u001b[0m\u001b[37m\u001b[0m \u001b[1m5s\u001b[0m 0us/step\n"
     ]
    }
   ],
   "source": [
    "mnist = tf.keras.datasets.mnist\n",
    "(train_images, train_labels), (test_images, test_labels) = mnist.load_data()"
   ]
  },
  {
   "cell_type": "code",
   "execution_count": 8,
   "id": "974437a0-ac01-4cd2-870f-ac0267b7bf3c",
   "metadata": {},
   "outputs": [
    {
     "name": "stdout",
     "output_type": "stream",
     "text": [
      "Train data: (60000, 28, 28) (60000,) \n",
      "Train data: (10000, 28, 28) (10000,) \n"
     ]
    }
   ],
   "source": [
    "print(f\"Train data: {train_images.shape} {train_labels.shape} \")\n",
    "print(f\"Train data: {test_images.shape} {test_labels.shape} \")"
   ]
  },
  {
   "cell_type": "code",
   "execution_count": 18,
   "id": "48f17dd6-808a-49e0-9033-a09f74249c8a",
   "metadata": {},
   "outputs": [
    {
     "data": {
      "image/png": "[encoded data removed]",
      "text/plain": [
       "<Figure size 800x500 with 3 Axes>"
      ]
     },
     "metadata": {},
     "output_type": "display_data"
    }
   ],
   "source": [
    "plt.figure(figsize=(8, 5))\n",
    "plt.subplot(1, 3, 1)\n",
    "plt.imshow(train_images[1000])\n",
    "plt.title(f\"Label: {train_labels[1000]}\")\n",
    "\n",
    "plt.subplot(1, 3, 2)\n",
    "plt.imshow(train_images[599])\n",
    "plt.title(f\"Title: {train_labels[599]}\")\n",
    "\n",
    "plt.subplot(1, 3, 3)\n",
    "plt.imshow(train_images[790])\n",
    "plt.title(f\"Title: {train_labels[790]}\");\n"
   ]
  }
 ],
 "metadata": {
  "kernelspec": {
   "display_name": "Python 3 (ipykernel)",
   "language": "python",
   "name": "python3"
  },
  "language_info": {
   "codemirror_mode": {
    "name": "ipython",
    "version": 3
   },
   "file_extension": ".py",
   "mimetype": "text/x-python",
   "name": "python",
   "nbconvert_exporter": "python",
   "pygments_lexer": "ipython3",
   "version": "3.11.5"
  }
 },
 "nbformat": 4,
 "nbformat_minor": 5
}
