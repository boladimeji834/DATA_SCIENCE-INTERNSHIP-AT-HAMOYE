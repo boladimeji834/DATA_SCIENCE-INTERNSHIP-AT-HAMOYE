{
 "cells": [
  {
   "cell_type": "code",
   "execution_count": 1,
   "id": "1ed17693-e839-4dbc-a9de-708bba1aa5d6",
   "metadata": {},
   "outputs": [],
   "source": [
    "import numpy as np"
   ]
  },
  {
   "cell_type": "code",
   "execution_count": 2,
   "id": "9a1cd499-0972-4db0-80af-f270fc41e3b3",
   "metadata": {},
   "outputs": [
    {
     "data": {
      "text/plain": [
       "list"
      ]
     },
     "execution_count": 2,
     "metadata": {},
     "output_type": "execute_result"
    }
   ],
   "source": [
    "arr = [1, 2, 3, 4, 5]\n",
    "type(arr)"
   ]
  },
  {
   "cell_type": "code",
   "execution_count": 10,
   "id": "aa4ac996-d7eb-4641-becc-12c1ff1eeaaa",
   "metadata": {},
   "outputs": [
    {
     "name": "stdout",
     "output_type": "stream",
     "text": [
      "<class 'numpy.ndarray'>\n"
     ]
    }
   ],
   "source": [
    "arr = np.array(arr) # changes the data type from list to np array\n",
    "print(type(np.array(arr))) # class \"np.ndarray\""
   ]
  },
  {
   "cell_type": "code",
   "execution_count": 9,
   "id": "6a5edd4e-a20c-475a-b477-42f878cf1bc9",
   "metadata": {},
   "outputs": [
    {
     "data": {
      "text/plain": [
       "True"
      ]
     },
     "execution_count": 9,
     "metadata": {},
     "output_type": "execute_result"
    }
   ],
   "source": [
    "isinstance(arr, np.ndarray)"
   ]
  },
  {
   "cell_type": "code",
   "execution_count": 11,
   "id": "aac3434c-7129-4b15-a608-ed2e39e6970d",
   "metadata": {},
   "outputs": [
    {
     "name": "stdout",
     "output_type": "stream",
     "text": [
      "(5,)\n",
      "int32\n",
      "1\n"
     ]
    }
   ],
   "source": [
    "print(arr.shape)\n",
    "print(arr.dtype)\n",
    "print(arr.ndim)"
   ]
  },
  {
   "cell_type": "code",
   "execution_count": 22,
   "id": "61ff7f59-2635-44d7-91da-b9f2f1e134a5",
   "metadata": {},
   "outputs": [
    {
     "name": "stdout",
     "output_type": "stream",
     "text": [
      "[[7 3 3 3 2]\n",
      " [8 3 2 2 8]]\n",
      "\n",
      "(2, 5)\n",
      "int32\n",
      "2\n"
     ]
    }
   ],
   "source": [
    "# create a 2-dimensional array\n",
    "b = np.array([\n",
    "    [7, 3, 3, 3, 2], \n",
    "    [8, 3, 2, 2, 8]\n",
    "])\n",
    "\n",
    "print(b)\n",
    "print()\n",
    "# print the props of b\n",
    "print(b.shape)\n",
    "print(b.dtype)\n",
    "print(b.ndim)"
   ]
  },
  {
   "cell_type": "code",
   "execution_count": 34,
   "id": "6dc596a6-d8b9-48fb-814e-379f667341dc",
   "metadata": {},
   "outputs": [
    {
     "data": {
      "text/plain": [
       "array([[1., 0., 0.],\n",
       "       [0., 1., 0.],\n",
       "       [0., 0., 1.]])"
      ]
     },
     "execution_count": 34,
     "metadata": {},
     "output_type": "execute_result"
    }
   ],
   "source": [
    "# some inbuilt functions that can be used to initialise numpy arrays \n",
    "\n",
    "c = np.random.random((3, 5)) # a function to create a numpy array of random numbers with dimension (3, 5)\n",
    "c\n",
    "\n",
    "zeros = np.zeros((3, 6)) # a (3, 6) array of zeros\n",
    "zeros\n",
    "\n",
    "ones = np.ones((3, 6)) # a (3, 6) array of ones\n",
    "ones\n",
    "\n",
    "identity = np.identity(3) # the identity array creator function\n",
    "identity"
   ]
  },
  {
   "cell_type": "markdown",
   "id": "194d958c-9ab6-4b6e-9209-7bf116d201ab",
   "metadata": {},
   "source": [
    "Inter-operability of arrays with scalars"
   ]
  },
  {
   "cell_type": "code",
   "execution_count": 39,
   "id": "f92c8c87-17c5-4263-9d0e-6c82abb28e1d",
   "metadata": {},
   "outputs": [
    {
     "name": "stdout",
     "output_type": "stream",
     "text": [
      "[[95 83  8  7]\n",
      " [17  5 13 11]]\n",
      "\n",
      "[[616 240  15  10]\n",
      " [ 72   6  42  18]]\n",
      "\n",
      "[[12 85  8 10]\n",
      " [14  8 11  7]]\n"
     ]
    }
   ],
   "source": [
    "d = np.array([\n",
    "    [88, 3, 5, 2], \n",
    "    [8, 2, 7, 9]\n",
    "])\n",
    "\n",
    "e = np.array([\n",
    "    [7, 80, 3, 5], \n",
    "    [9, 3, 6, 2]\n",
    "])\n",
    "\n",
    "# performing element-wise operation on d and e \n",
    "print(d + e)\n",
    "print()\n",
    "print(d * e)\n",
    "print()\n",
    "print(5 + e)"
   ]
  },
  {
   "cell_type": "code",
   "execution_count": 47,
   "id": "1a30057b-11d4-496d-9101-b0aa28fcfcb1",
   "metadata": {},
   "outputs": [
    {
     "name": "stdout",
     "output_type": "stream",
     "text": [
      "(4, 7)\n",
      "\n"
     ]
    },
    {
     "data": {
      "text/plain": [
       "array([77, 66, 99])"
      ]
     },
     "execution_count": 47,
     "metadata": {},
     "output_type": "execute_result"
    }
   ],
   "source": [
    "# array indexing \\\n",
    "f = np.array([\n",
    "    [77, 3, 4, 6, 7, 8, 9],\n",
    "    [66, 7, 2, 9, 7, 9, 10],\n",
    "    [8, 99, 1, 6, 7, 2, 1], \n",
    "    [8, 5, 7, 3, 2, 1, 4]\n",
    "])\n",
    "\n",
    "print(f.shape)\n",
    "\n",
    "print()\n",
    "\n",
    "f[2] # using one index will return all numbers along a dimension\n",
    "f[3, 5] # using specific index will return a number from a specific position in the array\n",
    "\n",
    "# array slicing\n",
    "f[:3, 2:]\n",
    "\n",
    "# boolean array indexing \n",
    "f[f > 15]\n",
    "\n"
   ]
  },
  {
   "cell_type": "code",
   "execution_count": null,
   "id": "654a82e6-a6e3-4b0f-966d-43b2a343164c",
   "metadata": {},
   "outputs": [],
   "source": []
  }
 ],
 "metadata": {
  "kernelspec": {
   "display_name": "Python 3 (ipykernel)",
   "language": "python",
   "name": "python3"
  },
  "language_info": {
   "codemirror_mode": {
    "name": "ipython",
    "version": 3
   },
   "file_extension": ".py",
   "mimetype": "text/x-python",
   "name": "python",
   "nbconvert_exporter": "python",
   "pygments_lexer": "ipython3",
   "version": "3.11.5"
  }
 },
 "nbformat": 4,
 "nbformat_minor": 5
}
