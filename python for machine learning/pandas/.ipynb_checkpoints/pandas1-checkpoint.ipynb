{
 "cells": [
  {
   "cell_type": "code",
   "execution_count": 2,
   "id": "eb30d9c8-c5ab-450b-ae71-90e3a6b0caa4",
   "metadata": {},
   "outputs": [],
   "source": [
    "import pandas as pd\n",
    "import numpy as np "
   ]
  },
  {
   "cell_type": "code",
   "execution_count": 11,
   "id": "0ed1f707-1edd-4fa4-a2a7-8c2af7328e66",
   "metadata": {},
   "outputs": [
    {
     "data": {
      "text/plain": [
       "a       MOnday\n",
       "b      Tuesday\n",
       "c    Wednesday\n",
       "dtype: object"
      ]
     },
     "execution_count": 11,
     "metadata": {},
     "output_type": "execute_result"
    }
   ],
   "source": [
    "days = pd.Series([\"MOnday\", \"Tuesday\", \"Wednesday\"], index=[\"a\", \"b\", \"c\"])\n",
    "days"
   ]
  },
  {
   "cell_type": "code",
   "execution_count": 12,
   "id": "2ea5160a-3a6e-4979-b869-52103da7eb1f",
   "metadata": {},
   "outputs": [
    {
     "data": {
      "text/plain": [
       "a       MOnday\n",
       "b      Tuesday\n",
       "c    Wednesday\n",
       "dtype: object"
      ]
     },
     "execution_count": 12,
     "metadata": {},
     "output_type": "execute_result"
    }
   ],
   "source": [
    "day_list = np.array([\"MOnday\", \"Tuesday\", \"Wednesday\"])\n",
    "numpy_days = pd.Series(day_list, index=[\"a\", \"b\", \"c\"])\n",
    "numpy_days"
   ]
  },
  {
   "cell_type": "code",
   "execution_count": 29,
   "id": "ac4368b5-d94e-4b06-8c9f-443527f255e2",
   "metadata": {},
   "outputs": [
    {
     "name": "stdout",
     "output_type": "stream",
     "text": [
      "Wednesday\n",
      "\n",
      "Monday\n"
     ]
    },
    {
     "name": "stderr",
     "output_type": "stream",
     "text": [
      "C:\\Users\\Balogun Oladimeji\\AppData\\Local\\Temp\\ipykernel_9008\\645540130.py:8: FutureWarning: Series.__getitem__ treating keys as positions is deprecated. In a future version, integer keys will always be treated as labels (consistent with DataFrame behavior). To access a value by position, use `ser.iloc[pos]`\n",
      "  print(a_day[2])\n"
     ]
    }
   ],
   "source": [
    "a_day = pd.Series({\n",
    "    \"a\": \"Monday\", \n",
    "    \"b\": \"Tuesday\", \n",
    "    \"c\": \"Wednesday\"\n",
    "})\n",
    "\n",
    "# accessing series \n",
    "print(a_day[2])\n",
    "print()\n",
    "print(a_day[\"a\"])"
   ]
  },
  {
   "cell_type": "markdown",
   "id": "4f56a2b9-7401-48fd-bba4-da00bef510dc",
   "metadata": {},
   "source": [
    "DATAFRAMES"
   ]
  },
  {
   "cell_type": "code",
   "execution_count": 31,
   "id": "c2063780-28c2-46b9-9252-dd4ad433da58",
   "metadata": {},
   "outputs": [
    {
     "name": "stdout",
     "output_type": "stream",
     "text": [
      "Empty DataFrame\n",
      "Columns: []\n",
      "Index: []\n"
     ]
    }
   ],
   "source": [
    "empty = pd.DataFrame()\n",
    "print(empty)"
   ]
  },
  {
   "cell_type": "code",
   "execution_count": 35,
   "id": "2d9aa2d3-7639-4cf0-ba51-3371f71425b1",
   "metadata": {},
   "outputs": [
    {
     "name": "stdout",
     "output_type": "stream",
     "text": [
      "(4, 3)\n",
      "<class 'pandas.core.frame.DataFrame'>\n"
     ]
    },
    {
     "data": {
      "text/html": [
       "<div>\n",
       "<style scoped>\n",
       "    .dataframe tbody tr th:only-of-type {\n",
       "        vertical-align: middle;\n",
       "    }\n",
       "\n",
       "    .dataframe tbody tr th {\n",
       "        vertical-align: top;\n",
       "    }\n",
       "\n",
       "    .dataframe thead th {\n",
       "        text-align: right;\n",
       "    }\n",
       "</style>\n",
       "<table border=\"1\" class=\"dataframe\">\n",
       "  <thead>\n",
       "    <tr style=\"text-align: right;\">\n",
       "      <th></th>\n",
       "      <th>country</th>\n",
       "      <th>population</th>\n",
       "      <th>gdp</th>\n",
       "    </tr>\n",
       "  </thead>\n",
       "  <tbody>\n",
       "    <tr>\n",
       "      <th>0</th>\n",
       "      <td>Ghana</td>\n",
       "      <td>4444</td>\n",
       "      <td>3000</td>\n",
       "    </tr>\n",
       "    <tr>\n",
       "      <th>1</th>\n",
       "      <td>Nigeria</td>\n",
       "      <td>6993</td>\n",
       "      <td>8000</td>\n",
       "    </tr>\n",
       "    <tr>\n",
       "      <th>2</th>\n",
       "      <td>Canada</td>\n",
       "      <td>1000</td>\n",
       "      <td>7000</td>\n",
       "    </tr>\n",
       "    <tr>\n",
       "      <th>3</th>\n",
       "      <td>Benin</td>\n",
       "      <td>230</td>\n",
       "      <td>9000</td>\n",
       "    </tr>\n",
       "  </tbody>\n",
       "</table>\n",
       "</div>"
      ],
      "text/plain": [
       "   country  population   gdp\n",
       "0    Ghana        4444  3000\n",
       "1  Nigeria        6993  8000\n",
       "2   Canada        1000  7000\n",
       "3    Benin         230  9000"
      ]
     },
     "execution_count": 35,
     "metadata": {},
     "output_type": "execute_result"
    }
   ],
   "source": [
    "# a country dataframe \n",
    "countries = pd.DataFrame({\n",
    "    \"country\": [\"Ghana\", \"Nigeria\", \"Canada\", \"Benin\"],\n",
    "    \"population\": [4444, 6993, 1000, 230],\n",
    "    \"gdp\": [3_000, 8_000, 7_000, 9_000]\n",
    "})\n",
    "print(countries.shape)\n",
    "print(type(countries))\n",
    "countries\n"
   ]
  },
  {
   "cell_type": "code",
   "execution_count": 41,
   "id": "4393f09f-9657-4643-a546-84849a77a2c3",
   "metadata": {},
   "outputs": [
    {
     "data": {
      "text/html": [
       "<div>\n",
       "<style scoped>\n",
       "    .dataframe tbody tr th:only-of-type {\n",
       "        vertical-align: middle;\n",
       "    }\n",
       "\n",
       "    .dataframe tbody tr th {\n",
       "        vertical-align: top;\n",
       "    }\n",
       "\n",
       "    .dataframe thead th {\n",
       "        text-align: right;\n",
       "    }\n",
       "</style>\n",
       "<table border=\"1\" class=\"dataframe\">\n",
       "  <thead>\n",
       "    <tr style=\"text-align: right;\">\n",
       "      <th></th>\n",
       "      <th>country</th>\n",
       "      <th>population</th>\n",
       "      <th>gdp</th>\n",
       "    </tr>\n",
       "  </thead>\n",
       "  <tbody>\n",
       "    <tr>\n",
       "      <th>0</th>\n",
       "      <td>Ghana</td>\n",
       "      <td>5999</td>\n",
       "      <td>800</td>\n",
       "    </tr>\n",
       "    <tr>\n",
       "      <th>1</th>\n",
       "      <td>Nigeria</td>\n",
       "      <td>800</td>\n",
       "      <td>200</td>\n",
       "    </tr>\n",
       "    <tr>\n",
       "      <th>2</th>\n",
       "      <td>Canada</td>\n",
       "      <td>8000</td>\n",
       "      <td>7000</td>\n",
       "    </tr>\n",
       "  </tbody>\n",
       "</table>\n",
       "</div>"
      ],
      "text/plain": [
       "   country  population   gdp\n",
       "0    Ghana        5999   800\n",
       "1  Nigeria         800   200\n",
       "2   Canada        8000  7000"
      ]
     },
     "execution_count": 41,
     "metadata": {},
     "output_type": "execute_result"
    }
   ],
   "source": [
    "df_list = [\"Ghana\", 5999 ,  800], [\"Nigeria\", 800, 200], [\"Canada\", 8000, 7000]\n",
    "new_df = pd.DataFrame(df_list, columns=[\"country\", \"population\", \"gdp\"])\n",
    "new_df"
   ]
  },
  {
   "cell_type": "code",
   "execution_count": 44,
   "id": "3ccfe114-e5aa-47e6-a514-0ff6677317bb",
   "metadata": {},
   "outputs": [
    {
     "data": {
      "text/plain": [
       "800"
      ]
     },
     "execution_count": 44,
     "metadata": {},
     "output_type": "execute_result"
    }
   ],
   "source": [
    "# the at and iat method \n",
    "new_df.iat[1, 1]"
   ]
  }
 ],
 "metadata": {
  "kernelspec": {
   "display_name": "Python 3 (ipykernel)",
   "language": "python",
   "name": "python3"
  },
  "language_info": {
   "codemirror_mode": {
    "name": "ipython",
    "version": 3
   },
   "file_extension": ".py",
   "mimetype": "text/x-python",
   "name": "python",
   "nbconvert_exporter": "python",
   "pygments_lexer": "ipython3",
   "version": "3.11.5"
  }
 },
 "nbformat": 4,
 "nbformat_minor": 5
}
